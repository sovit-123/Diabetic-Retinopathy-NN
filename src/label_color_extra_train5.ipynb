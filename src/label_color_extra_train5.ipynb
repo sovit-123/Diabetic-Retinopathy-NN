{
 "cells": [
  {
   "cell_type": "code",
   "execution_count": 1,
   "metadata": {},
   "outputs": [],
   "source": [
    "import pandas as pd\n",
    "import cv2\n",
    "import os\n",
    "import glob\n",
    "\n",
    "from tqdm.notebook import tqdm"
   ]
  },
  {
   "cell_type": "code",
   "execution_count": 2,
   "metadata": {},
   "outputs": [],
   "source": [
    "# SEED = 77"
   ]
  },
  {
   "cell_type": "code",
   "execution_count": 3,
   "metadata": {},
   "outputs": [],
   "source": [
    "file = pd.read_csv('../input/past_comp_data/trainLabels.csv')"
   ]
  },
  {
   "cell_type": "code",
   "execution_count": 4,
   "metadata": {},
   "outputs": [
    {
     "data": {
      "text/html": [
       "<div>\n",
       "<style scoped>\n",
       "    .dataframe tbody tr th:only-of-type {\n",
       "        vertical-align: middle;\n",
       "    }\n",
       "\n",
       "    .dataframe tbody tr th {\n",
       "        vertical-align: top;\n",
       "    }\n",
       "\n",
       "    .dataframe thead th {\n",
       "        text-align: right;\n",
       "    }\n",
       "</style>\n",
       "<table border=\"1\" class=\"dataframe\">\n",
       "  <thead>\n",
       "    <tr style=\"text-align: right;\">\n",
       "      <th></th>\n",
       "      <th>image</th>\n",
       "      <th>level</th>\n",
       "    </tr>\n",
       "  </thead>\n",
       "  <tbody>\n",
       "    <tr>\n",
       "      <th>0</th>\n",
       "      <td>10_left</td>\n",
       "      <td>0</td>\n",
       "    </tr>\n",
       "    <tr>\n",
       "      <th>1</th>\n",
       "      <td>10_right</td>\n",
       "      <td>0</td>\n",
       "    </tr>\n",
       "    <tr>\n",
       "      <th>2</th>\n",
       "      <td>13_left</td>\n",
       "      <td>0</td>\n",
       "    </tr>\n",
       "    <tr>\n",
       "      <th>3</th>\n",
       "      <td>13_right</td>\n",
       "      <td>0</td>\n",
       "    </tr>\n",
       "    <tr>\n",
       "      <th>4</th>\n",
       "      <td>15_left</td>\n",
       "      <td>1</td>\n",
       "    </tr>\n",
       "  </tbody>\n",
       "</table>\n",
       "</div>"
      ],
      "text/plain": [
       "      image  level\n",
       "0   10_left      0\n",
       "1  10_right      0\n",
       "2   13_left      0\n",
       "3  13_right      0\n",
       "4   15_left      1"
      ]
     },
     "execution_count": 4,
     "metadata": {},
     "output_type": "execute_result"
    }
   ],
   "source": [
    "file.head()"
   ]
  },
  {
   "cell_type": "code",
   "execution_count": 5,
   "metadata": {},
   "outputs": [
    {
     "name": "stdout",
     "output_type": "stream",
     "text": [
      "1427\n"
     ]
    }
   ],
   "source": [
    "'''\n",
    "Image available\n",
    "'''\n",
    "avail_img_list = glob.glob('../input/past_comp_data/train.zip.005/train/*.jpeg')\n",
    "img = []\n",
    "for i in range(len(avail_img_list)):\n",
    "    split_img = (avail_img_list[i].split('\\\\')[1].split('.')[0])\n",
    "    img.append(split_img)\n",
    "\n",
    "print(len(img))"
   ]
  },
  {
   "cell_type": "code",
   "execution_count": 6,
   "metadata": {},
   "outputs": [],
   "source": [
    "no_dr = 'No_DR/'\n",
    "mild = 'Mild/'\n",
    "moderate = 'Moderate/'\n",
    "severe = 'Severe/'\n",
    "proliferate_dr = 'Proliferate_DR/'"
   ]
  },
  {
   "cell_type": "code",
   "execution_count": 7,
   "metadata": {},
   "outputs": [
    {
     "name": "stdout",
     "output_type": "stream",
     "text": [
      "0    0\n",
      "1    0\n",
      "2    0\n",
      "3    0\n",
      "4    1\n",
      "Name: level, dtype: int64\n",
      "0    25810\n",
      "2     5292\n",
      "1     2443\n",
      "3      873\n",
      "4      708\n",
      "Name: level, dtype: int64 <class 'pandas.core.series.Series'>\n"
     ]
    }
   ],
   "source": [
    "train_y = file['level']\n",
    "print(train_y.head())\n",
    "# get the number of images per category\n",
    "num_img_by_cat = (train_y.value_counts())\n",
    "print(num_img_by_cat, type(num_img_by_cat))"
   ]
  },
  {
   "cell_type": "code",
   "execution_count": 8,
   "metadata": {},
   "outputs": [
    {
     "data": {
      "text/plain": [
       "25810"
      ]
     },
     "execution_count": 8,
     "metadata": {},
     "output_type": "execute_result"
    }
   ],
   "source": [
    "num_img_by_cat[0]"
   ]
  },
  {
   "cell_type": "code",
   "execution_count": 9,
   "metadata": {},
   "outputs": [
    {
     "data": {
      "application/vnd.jupyter.widget-view+json": {
       "model_id": "1f828d40cca840aeaf402df04962ee6b",
       "version_major": 2,
       "version_minor": 0
      },
      "text/plain": [
       "HBox(children=(FloatProgress(value=0.0, max=5.0), HTML(value='')))"
      ]
     },
     "metadata": {},
     "output_type": "display_data"
    },
    {
     "data": {
      "application/vnd.jupyter.widget-view+json": {
       "model_id": "9c271b954d334fcd8f129b9d62a2c22b",
       "version_major": 2,
       "version_minor": 0
      },
      "text/plain": [
       "HBox(children=(FloatProgress(value=1.0, bar_style='info', max=1.0), HTML(value='')))"
      ]
     },
     "metadata": {},
     "output_type": "display_data"
    },
    {
     "name": "stdout",
     "output_type": "stream",
     "text": [
      "\n"
     ]
    },
    {
     "data": {
      "application/vnd.jupyter.widget-view+json": {
       "model_id": "2d0c58fc44f345dbb076993f7231c937",
       "version_major": 2,
       "version_minor": 0
      },
      "text/plain": [
       "HBox(children=(FloatProgress(value=1.0, bar_style='info', max=1.0), HTML(value='')))"
      ]
     },
     "metadata": {},
     "output_type": "display_data"
    },
    {
     "name": "stdout",
     "output_type": "stream",
     "text": [
      "\n"
     ]
    },
    {
     "data": {
      "application/vnd.jupyter.widget-view+json": {
       "model_id": "0a9d7e5ba31c459ba5853be77eab290b",
       "version_major": 2,
       "version_minor": 0
      },
      "text/plain": [
       "HBox(children=(FloatProgress(value=1.0, bar_style='info', max=1.0), HTML(value='')))"
      ]
     },
     "metadata": {},
     "output_type": "display_data"
    },
    {
     "name": "stdout",
     "output_type": "stream",
     "text": [
      "\n"
     ]
    },
    {
     "data": {
      "application/vnd.jupyter.widget-view+json": {
       "model_id": "4327b1e09a7e4bd0aa9482bba76df3f2",
       "version_major": 2,
       "version_minor": 0
      },
      "text/plain": [
       "HBox(children=(FloatProgress(value=1.0, bar_style='info', max=1.0), HTML(value='')))"
      ]
     },
     "metadata": {},
     "output_type": "display_data"
    },
    {
     "name": "stdout",
     "output_type": "stream",
     "text": [
      "\n"
     ]
    },
    {
     "data": {
      "application/vnd.jupyter.widget-view+json": {
       "model_id": "52aad400459e41959243f01a50ad9916",
       "version_major": 2,
       "version_minor": 0
      },
      "text/plain": [
       "HBox(children=(FloatProgress(value=1.0, bar_style='info', max=1.0), HTML(value='')))"
      ]
     },
     "metadata": {},
     "output_type": "display_data"
    },
    {
     "name": "stdout",
     "output_type": "stream",
     "text": [
      "\n",
      "\n"
     ]
    }
   ],
   "source": [
    "# for class_id in tqdm(sorted(train_y.unique())):\n",
    "#     for i in tqdm(range(len(file))):\n",
    "#         if file['image'][i] in img and file['level'][i] == 0:\n",
    "#             read_path = f\"../input/past_comp_data/train.zip.005/train/{file['image'][i]}.jpeg\"\n",
    "#             write_path = f\"../input/past_comp_data/train.zip.005/{no_dr}{file['image'][i]}.png\"\n",
    "#             image = cv2.imread(read_path)\n",
    "#             image = cv2.resize(image, (224, 224))\n",
    "#             cv2.imwrite(write_path, image)\n",
    "            \n",
    "#         if file['image'][i] in img and file['level'][i] == 1:\n",
    "#             read_path = f\"../input/past_comp_data/train.zip.005/train/{file['image'][i]}.jpeg\"\n",
    "#             write_path = f\"../input/past_comp_data/train.zip.005/{mild}{file['image'][i]}.png\"\n",
    "#             image = cv2.imread(read_path)\n",
    "#             image = cv2.resize(image, (224, 224))\n",
    "#             cv2.imwrite(write_path, image)\n",
    "            \n",
    "#         if file['image'][i] in img and file['level'][i] == 2:\n",
    "#             read_path = f\"../input/past_comp_data/train.zip.005/train/{file['image'][i]}.jpeg\"\n",
    "#             write_path = f\"../input/past_comp_data/train.zip.005/{moderate}{file['image'][i]}.png\"\n",
    "#             image = cv2.imread(read_path)\n",
    "#             image = cv2.resize(image, (224, 224))\n",
    "#             cv2.imwrite(write_path, image)\n",
    "            \n",
    "#         if file['image'][i] in img and file['level'][i] == 3:\n",
    "#             read_path = f\"../input/past_comp_data/train.zip.005/train/{file['image'][i]}.jpeg\"\n",
    "#             write_path = f\"../input/past_comp_data/train.zip.005/{severe}{file['image'][i]}.png\"\n",
    "#             image = cv2.imread(read_path)\n",
    "#             image = cv2.resize(image, (224, 224))\n",
    "#             cv2.imwrite(write_path, image)\n",
    "            \n",
    "#         if file['image'][i] in img and file['level'][i] == 4:\n",
    "#             read_path = f\"../input/past_comp_data/train.zip.005/train/{file['image'][i]}.jpeg\"\n",
    "#             write_path = f\"../input/past_comp_data/train.zip.005/{proliferate_dr}{file['image'][i]}.png\"\n",
    "#             image = cv2.imread(read_path)\n",
    "#             image = cv2.resize(image, (224, 224))\n",
    "#             cv2.imwrite(write_path, image)\n",
    "        \n",
    "\n",
    "for class_id in tqdm(sorted(train_y.unique())):\n",
    "    if class_id == 0:\n",
    "        for i, (idx, row) in tqdm(enumerate(file.loc[file['level'] == class_id].sample(num_img_by_cat[0],).iterrows())):\n",
    "            if row['image'] in img:\n",
    "                read_path = f\"../input/past_comp_data/train.zip.005/train/{row['image']}.jpeg\"\n",
    "                write_path = '../input/past_comp_data/colored_images/'+no_dr+row['image']+'.png'\n",
    "                image = cv2.imread(read_path)\n",
    "                image = cv2.resize(image, (224, 224))\n",
    "                cv2.imwrite(write_path, image)\n",
    "    \n",
    "    if class_id == 1:\n",
    "        for i, (idx, row) in tqdm(enumerate(file.loc[file['level'] == class_id].sample(num_img_by_cat[1],).iterrows())):\n",
    "            if row['image'] in img:\n",
    "                read_path = f\"../input/past_comp_data/train.zip.005/train/{row['image']}.jpeg\"\n",
    "                write_path = '../input/past_comp_data/colored_images/'+mild+row['image']+'.png'\n",
    "                image = cv2.imread(read_path)\n",
    "                image = cv2.resize(image, (224, 224))\n",
    "                cv2.imwrite(write_path, image)\n",
    "            \n",
    "    if class_id == 2:        \n",
    "        for i, (idx, row) in tqdm(enumerate(file.loc[file['level'] == class_id].sample(num_img_by_cat[2],).iterrows())):\n",
    "            if row['image'] in img:\n",
    "                read_path = f\"../input/past_comp_data/train.zip.005/train/{row['image']}.jpeg\"\n",
    "                write_path = '../input/past_comp_data/colored_images/'+moderate+row['image']+'.png'\n",
    "                image = cv2.imread(read_path)\n",
    "                image = cv2.resize(image, (224, 224))\n",
    "                cv2.imwrite(write_path, image)\n",
    "    \n",
    "    if class_id == 3:\n",
    "        for i, (idx, row) in tqdm(enumerate(file.loc[file['level'] == class_id].sample(num_img_by_cat[3],).iterrows())):\n",
    "            if row['image'] in img:\n",
    "                read_path = f\"../input/past_comp_data/train.zip.005/train/{row['image']}.jpeg\"\n",
    "                write_path = '../input/past_comp_data/colored_images/'+severe+row['image']+'.png'\n",
    "                image = cv2.imread(read_path)\n",
    "                image = cv2.resize(image, (224, 224))\n",
    "                cv2.imwrite(write_path, image)\n",
    "        \n",
    "    if class_id == 4:    \n",
    "        for i, (idx, row) in tqdm(enumerate(file.loc[file['level'] == class_id].sample(num_img_by_cat[4],).iterrows())):\n",
    "            if row['image'] in img:\n",
    "                read_path = f\"../input/past_comp_data/train.zip.005/train/{row['image']}.jpeg\"\n",
    "                write_path = '../input/past_comp_data/colored_images/'+proliferate_dr+row['image']+'.png'\n",
    "                image = cv2.imread(read_path)\n",
    "                image = cv2.resize(image, (224, 224))\n",
    "                cv2.imwrite(write_path, image)"
   ]
  },
  {
   "cell_type": "code",
   "execution_count": null,
   "metadata": {},
   "outputs": [],
   "source": []
  },
  {
   "cell_type": "code",
   "execution_count": null,
   "metadata": {},
   "outputs": [],
   "source": []
  },
  {
   "cell_type": "code",
   "execution_count": null,
   "metadata": {},
   "outputs": [],
   "source": []
  }
 ],
 "metadata": {
  "kernelspec": {
   "display_name": "Python 3",
   "language": "python",
   "name": "python3"
  },
  "language_info": {
   "codemirror_mode": {
    "name": "ipython",
    "version": 3
   },
   "file_extension": ".py",
   "mimetype": "text/x-python",
   "name": "python",
   "nbconvert_exporter": "python",
   "pygments_lexer": "ipython3",
   "version": "3.7.6"
  },
  "latex_envs": {
   "LaTeX_envs_menu_present": true,
   "autoclose": false,
   "autocomplete": true,
   "bibliofile": "biblio.bib",
   "cite_by": "apalike",
   "current_citInitial": 1,
   "eqLabelWithNumbers": true,
   "eqNumInitial": 1,
   "hotkeys": {
    "equation": "Ctrl-E",
    "itemize": "Ctrl-I"
   },
   "labels_anchors": false,
   "latex_user_defs": false,
   "report_style_numbering": false,
   "user_envs_cfg": false
  },
  "toc": {
   "base_numbering": 1,
   "nav_menu": {},
   "number_sections": true,
   "sideBar": true,
   "skip_h1_title": false,
   "title_cell": "Table of Contents",
   "title_sidebar": "Contents",
   "toc_cell": false,
   "toc_position": {},
   "toc_section_display": true,
   "toc_window_display": false
  }
 },
 "nbformat": 4,
 "nbformat_minor": 4
}
