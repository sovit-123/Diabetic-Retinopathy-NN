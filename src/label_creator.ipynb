{
 "cells": [
  {
   "cell_type": "code",
   "execution_count": 1,
   "metadata": {},
   "outputs": [],
   "source": [
    "import pandas as pd\n",
    "import cv2\n",
    "import os\n",
    "\n",
    "from tqdm.notebook import tqdm"
   ]
  },
  {
   "cell_type": "code",
   "execution_count": 2,
   "metadata": {},
   "outputs": [],
   "source": [
    "SEED = 77"
   ]
  },
  {
   "cell_type": "code",
   "execution_count": 3,
   "metadata": {},
   "outputs": [],
   "source": [
    "file = pd.read_csv('../input/train.csv')"
   ]
  },
  {
   "cell_type": "code",
   "execution_count": 4,
   "metadata": {},
   "outputs": [
    {
     "data": {
      "text/html": [
       "<div>\n",
       "<style scoped>\n",
       "    .dataframe tbody tr th:only-of-type {\n",
       "        vertical-align: middle;\n",
       "    }\n",
       "\n",
       "    .dataframe tbody tr th {\n",
       "        vertical-align: top;\n",
       "    }\n",
       "\n",
       "    .dataframe thead th {\n",
       "        text-align: right;\n",
       "    }\n",
       "</style>\n",
       "<table border=\"1\" class=\"dataframe\">\n",
       "  <thead>\n",
       "    <tr style=\"text-align: right;\">\n",
       "      <th></th>\n",
       "      <th>id_code</th>\n",
       "      <th>diagnosis</th>\n",
       "    </tr>\n",
       "  </thead>\n",
       "  <tbody>\n",
       "    <tr>\n",
       "      <th>0</th>\n",
       "      <td>000c1434d8d7</td>\n",
       "      <td>2</td>\n",
       "    </tr>\n",
       "    <tr>\n",
       "      <th>1</th>\n",
       "      <td>001639a390f0</td>\n",
       "      <td>4</td>\n",
       "    </tr>\n",
       "    <tr>\n",
       "      <th>2</th>\n",
       "      <td>0024cdab0c1e</td>\n",
       "      <td>1</td>\n",
       "    </tr>\n",
       "    <tr>\n",
       "      <th>3</th>\n",
       "      <td>002c21358ce6</td>\n",
       "      <td>0</td>\n",
       "    </tr>\n",
       "    <tr>\n",
       "      <th>4</th>\n",
       "      <td>005b95c28852</td>\n",
       "      <td>0</td>\n",
       "    </tr>\n",
       "  </tbody>\n",
       "</table>\n",
       "</div>"
      ],
      "text/plain": [
       "        id_code  diagnosis\n",
       "0  000c1434d8d7          2\n",
       "1  001639a390f0          4\n",
       "2  0024cdab0c1e          1\n",
       "3  002c21358ce6          0\n",
       "4  005b95c28852          0"
      ]
     },
     "execution_count": 4,
     "metadata": {},
     "output_type": "execute_result"
    }
   ],
   "source": [
    "file.head()"
   ]
  },
  {
   "cell_type": "code",
   "execution_count": 5,
   "metadata": {},
   "outputs": [],
   "source": [
    "no_dr = 'No_DR/'\n",
    "mild = 'Mild/'\n",
    "moderate = 'Moderate/'\n",
    "severe = 'Severe/'\n",
    "proliferate_dr = 'Proliferate_DR/'"
   ]
  },
  {
   "cell_type": "code",
   "execution_count": 6,
   "metadata": {},
   "outputs": [
    {
     "name": "stdout",
     "output_type": "stream",
     "text": [
      "0    2\n",
      "1    4\n",
      "2    1\n",
      "3    0\n",
      "4    0\n",
      "Name: diagnosis, dtype: int64\n",
      "0    1805\n",
      "2     999\n",
      "1     370\n",
      "4     295\n",
      "3     193\n",
      "Name: diagnosis, dtype: int64 <class 'pandas.core.series.Series'>\n"
     ]
    }
   ],
   "source": [
    "train_y = file['diagnosis']\n",
    "print(train_y.head())\n",
    "# get the number of images per category\n",
    "num_img_by_cat = (train_y.value_counts())\n",
    "print(num_img_by_cat, type(num_img_by_cat))"
   ]
  },
  {
   "cell_type": "code",
   "execution_count": 7,
   "metadata": {},
   "outputs": [
    {
     "data": {
      "application/vnd.jupyter.widget-view+json": {
       "model_id": "80763cee161846b2a53fa65437e300e2",
       "version_major": 2,
       "version_minor": 0
      },
      "text/plain": [
       "HBox(children=(FloatProgress(value=0.0, max=5.0), HTML(value='')))"
      ]
     },
     "metadata": {},
     "output_type": "display_data"
    },
    {
     "data": {
      "application/vnd.jupyter.widget-view+json": {
       "model_id": "b0bf86de26ad46078b0c9a6358f0ff8d",
       "version_major": 2,
       "version_minor": 0
      },
      "text/plain": [
       "HBox(children=(FloatProgress(value=1.0, bar_style='info', max=1.0), HTML(value='')))"
      ]
     },
     "metadata": {},
     "output_type": "display_data"
    },
    {
     "name": "stdout",
     "output_type": "stream",
     "text": [
      "\n"
     ]
    },
    {
     "data": {
      "application/vnd.jupyter.widget-view+json": {
       "model_id": "1a56e012b18148d482766e862bfe89e7",
       "version_major": 2,
       "version_minor": 0
      },
      "text/plain": [
       "HBox(children=(FloatProgress(value=1.0, bar_style='info', max=1.0), HTML(value='')))"
      ]
     },
     "metadata": {},
     "output_type": "display_data"
    },
    {
     "name": "stdout",
     "output_type": "stream",
     "text": [
      "\n"
     ]
    },
    {
     "data": {
      "application/vnd.jupyter.widget-view+json": {
       "model_id": "5c9f84dc26194b5687f8896600584245",
       "version_major": 2,
       "version_minor": 0
      },
      "text/plain": [
       "HBox(children=(FloatProgress(value=1.0, bar_style='info', max=1.0), HTML(value='')))"
      ]
     },
     "metadata": {},
     "output_type": "display_data"
    },
    {
     "name": "stdout",
     "output_type": "stream",
     "text": [
      "\n"
     ]
    },
    {
     "data": {
      "application/vnd.jupyter.widget-view+json": {
       "model_id": "57779189ab4f42279df95f29110a40dd",
       "version_major": 2,
       "version_minor": 0
      },
      "text/plain": [
       "HBox(children=(FloatProgress(value=1.0, bar_style='info', max=1.0), HTML(value='')))"
      ]
     },
     "metadata": {},
     "output_type": "display_data"
    },
    {
     "name": "stdout",
     "output_type": "stream",
     "text": [
      "\n"
     ]
    },
    {
     "data": {
      "application/vnd.jupyter.widget-view+json": {
       "model_id": "4ba8f6e0fd9d40cb94dfd41fed563668",
       "version_major": 2,
       "version_minor": 0
      },
      "text/plain": [
       "HBox(children=(FloatProgress(value=1.0, bar_style='info', max=1.0), HTML(value='')))"
      ]
     },
     "metadata": {},
     "output_type": "display_data"
    },
    {
     "name": "stdout",
     "output_type": "stream",
     "text": [
      "\n",
      "\n"
     ]
    }
   ],
   "source": [
    "for class_id in tqdm(sorted(train_y.unique())):\n",
    "    if class_id == 0:\n",
    "        for i, (idx, row) in tqdm(enumerate(file.loc[file['diagnosis'] == class_id].sample(num_img_by_cat[0], replace=True, random_state=SEED).iterrows())):\n",
    "            read_path = f\"../input/train_images/{row['id_code']}.png\"\n",
    "            write_path = '../input/colored_images/'+no_dr+row['id_code']+'.png'\n",
    "            image = cv2.imread(read_path)\n",
    "            cv2.imwrite(write_path, image)\n",
    "    \n",
    "    if class_id == 1:\n",
    "        for i, (idx, row) in tqdm(enumerate(file.loc[file['diagnosis'] == class_id].sample(num_img_by_cat[1], replace=True, random_state=SEED).iterrows())):\n",
    "            read_path = f\"../input/train_images/{row['id_code']}.png\"\n",
    "            write_path = '../input/colored_images/'+mild+row['id_code']+'.png'\n",
    "            image = cv2.imread(read_path)\n",
    "            cv2.imwrite(write_path, image)\n",
    "            \n",
    "    if class_id == 2:        \n",
    "        for i, (idx, row) in tqdm(enumerate(file.loc[file['diagnosis'] == class_id].sample(num_img_by_cat[2], replace=True, random_state=SEED).iterrows())):\n",
    "            read_path = f\"../input/train_images/{row['id_code']}.png\"\n",
    "            write_path = '../input/colored_images/'+moderate+row['id_code']+'.png'\n",
    "            image = cv2.imread(read_path)\n",
    "            cv2.imwrite(write_path, image)\n",
    "    \n",
    "    if class_id == 3:\n",
    "        for i, (idx, row) in tqdm(enumerate(file.loc[file['diagnosis'] == class_id].sample(num_img_by_cat[3], replace=True, random_state=SEED).iterrows())):\n",
    "            read_path = f\"../input/train_images/{row['id_code']}.png\"\n",
    "            write_path = '../input/colored_images/'+severe+row['id_code']+'.png'\n",
    "            image = cv2.imread(read_path)\n",
    "            cv2.imwrite(write_path, image)\n",
    "        \n",
    "    if class_id == 4:    \n",
    "        for i, (idx, row) in tqdm(enumerate(file.loc[file['diagnosis'] == class_id].sample(num_img_by_cat[4], replace=True, random_state=SEED).iterrows())):\n",
    "            read_path = f\"../input/train_images/{row['id_code']}.png\"\n",
    "            write_path = '../input/colored_images/'+proliferate_dr+row['id_code']+'.png'\n",
    "            image = cv2.imread(read_path)\n",
    "            cv2.imwrite(write_path, image)"
   ]
  },
  {
   "cell_type": "code",
   "execution_count": null,
   "metadata": {},
   "outputs": [],
   "source": []
  }
 ],
 "metadata": {
  "kernelspec": {
   "display_name": "Python 3",
   "language": "python",
   "name": "python3"
  },
  "language_info": {
   "codemirror_mode": {
    "name": "ipython",
    "version": 3
   },
   "file_extension": ".py",
   "mimetype": "text/x-python",
   "name": "python",
   "nbconvert_exporter": "python",
   "pygments_lexer": "ipython3",
   "version": "3.7.6"
  }
 },
 "nbformat": 4,
 "nbformat_minor": 2
}
