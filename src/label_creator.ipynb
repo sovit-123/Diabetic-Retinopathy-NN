{
 "cells": [
  {
   "cell_type": "code",
   "execution_count": 16,
   "metadata": {},
   "outputs": [],
   "source": [
    "import pandas as pd\n",
    "import cv2\n",
    "import os"
   ]
  },
  {
   "cell_type": "code",
   "execution_count": 11,
   "metadata": {},
   "outputs": [],
   "source": [
    "SEED = 77"
   ]
  },
  {
   "cell_type": "code",
   "execution_count": 2,
   "metadata": {},
   "outputs": [],
   "source": [
    "file = pd.read_csv('train.csv')"
   ]
  },
  {
   "cell_type": "code",
   "execution_count": 3,
   "metadata": {},
   "outputs": [
    {
     "data": {
      "text/html": [
       "<div>\n",
       "<style scoped>\n",
       "    .dataframe tbody tr th:only-of-type {\n",
       "        vertical-align: middle;\n",
       "    }\n",
       "\n",
       "    .dataframe tbody tr th {\n",
       "        vertical-align: top;\n",
       "    }\n",
       "\n",
       "    .dataframe thead th {\n",
       "        text-align: right;\n",
       "    }\n",
       "</style>\n",
       "<table border=\"1\" class=\"dataframe\">\n",
       "  <thead>\n",
       "    <tr style=\"text-align: right;\">\n",
       "      <th></th>\n",
       "      <th>id_code</th>\n",
       "      <th>diagnosis</th>\n",
       "    </tr>\n",
       "  </thead>\n",
       "  <tbody>\n",
       "    <tr>\n",
       "      <td>0</td>\n",
       "      <td>000c1434d8d7</td>\n",
       "      <td>2</td>\n",
       "    </tr>\n",
       "    <tr>\n",
       "      <td>1</td>\n",
       "      <td>001639a390f0</td>\n",
       "      <td>4</td>\n",
       "    </tr>\n",
       "    <tr>\n",
       "      <td>2</td>\n",
       "      <td>0024cdab0c1e</td>\n",
       "      <td>1</td>\n",
       "    </tr>\n",
       "    <tr>\n",
       "      <td>3</td>\n",
       "      <td>002c21358ce6</td>\n",
       "      <td>0</td>\n",
       "    </tr>\n",
       "    <tr>\n",
       "      <td>4</td>\n",
       "      <td>005b95c28852</td>\n",
       "      <td>0</td>\n",
       "    </tr>\n",
       "  </tbody>\n",
       "</table>\n",
       "</div>"
      ],
      "text/plain": [
       "        id_code  diagnosis\n",
       "0  000c1434d8d7          2\n",
       "1  001639a390f0          4\n",
       "2  0024cdab0c1e          1\n",
       "3  002c21358ce6          0\n",
       "4  005b95c28852          0"
      ]
     },
     "execution_count": 3,
     "metadata": {},
     "output_type": "execute_result"
    }
   ],
   "source": [
    "file.head()"
   ]
  },
  {
   "cell_type": "code",
   "execution_count": 6,
   "metadata": {},
   "outputs": [],
   "source": [
    "no_dr = 'No_DR/'\n",
    "mild = 'Mild/'\n",
    "moderate = 'Moderate/'\n",
    "severe = 'Severe/'\n",
    "proliferate_dr = 'Proliferate_DR/'"
   ]
  },
  {
   "cell_type": "code",
   "execution_count": 8,
   "metadata": {},
   "outputs": [
    {
     "data": {
      "text/plain": [
       "0    2\n",
       "1    4\n",
       "2    1\n",
       "3    0\n",
       "4    0\n",
       "Name: diagnosis, dtype: int64"
      ]
     },
     "execution_count": 8,
     "metadata": {},
     "output_type": "execute_result"
    }
   ],
   "source": [
    "train_y = file['diagnosis']\n",
    "train_y.head()"
   ]
  },
  {
   "cell_type": "code",
   "execution_count": 27,
   "metadata": {},
   "outputs": [],
   "source": [
    "for class_id in sorted(train_y.unique()):\n",
    "    for i, (idx, row) in enumerate(file.loc[file['diagnosis'] == class_id].sample(100, random_state=SEED).iterrows()):\n",
    "        path=f\"train_images/{row['id_code']}.png\"\n",
    "        image = cv2.imread(path)\n",
    "        if class_id == 0:\n",
    "            cv2.imwrite(no_dr+row['id_code']+'.png', image)\n",
    "    \n",
    "    for i, (idx, row) in enumerate(file.loc[file['diagnosis'] == class_id].sample(100, random_state=SEED).iterrows()):\n",
    "        path=f\"train_images/{row['id_code']}.png\"\n",
    "        image = cv2.imread(path)\n",
    "        if class_id == 1:\n",
    "            cv2.imwrite(mild+row['id_code']+'.png', image)\n",
    "            \n",
    "    for i, (idx, row) in enumerate(file.loc[file['diagnosis'] == class_id].sample(100, random_state=SEED).iterrows()):\n",
    "        path=f\"train_images/{row['id_code']}.png\"\n",
    "        image = cv2.imread(path)\n",
    "        if class_id == 2:\n",
    "            cv2.imwrite(moderate+row['id_code']+'.png', image)\n",
    "    \n",
    "    for i, (idx, row) in enumerate(file.loc[file['diagnosis'] == class_id].sample(100, random_state=SEED).iterrows()):\n",
    "        path=f\"train_images/{row['id_code']}.png\"\n",
    "        image = cv2.imread(path)\n",
    "        if class_id == 3:\n",
    "            cv2.imwrite(severe+row['id_code']+'.png', image)\n",
    "            \n",
    "    for i, (idx, row) in enumerate(file.loc[file['diagnosis'] == class_id].sample(100, random_state=SEED).iterrows()):\n",
    "        path=f\"train_images/{row['id_code']}.png\"\n",
    "        image = cv2.imread(path)\n",
    "        if class_id == 4:\n",
    "            cv2.imwrite(proliferate_dr+row['id_code']+'.png', image)"
   ]
  },
  {
   "cell_type": "code",
   "execution_count": null,
   "metadata": {},
   "outputs": [],
   "source": []
  }
 ],
 "metadata": {
  "kernelspec": {
   "display_name": "Python 3",
   "language": "python",
   "name": "python3"
  },
  "language_info": {
   "codemirror_mode": {
    "name": "ipython",
    "version": 3
   },
   "file_extension": ".py",
   "mimetype": "text/x-python",
   "name": "python",
   "nbconvert_exporter": "python",
   "pygments_lexer": "ipython3",
   "version": "3.7.4"
  }
 },
 "nbformat": 4,
 "nbformat_minor": 2
}
