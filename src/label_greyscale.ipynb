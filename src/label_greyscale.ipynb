{
 "cells": [
  {
   "cell_type": "code",
   "execution_count": 1,
   "metadata": {},
   "outputs": [],
   "source": [
    "import cv2\n",
    "# import matplotlib.pyplot as plt\n",
    "import pandas as pd\n",
    "import os\n",
    "\n",
    "from tqdm.notebook import tqdm"
   ]
  },
  {
   "cell_type": "code",
   "execution_count": 2,
   "metadata": {},
   "outputs": [],
   "source": [
    "import pandas as pd\n",
    "file = pd.read_csv('../input/train.csv')"
   ]
  },
  {
   "cell_type": "code",
   "execution_count": 3,
   "metadata": {},
   "outputs": [],
   "source": [
    "no_dr = 'No_DR/'\n",
    "mild = 'Mild/'\n",
    "moderate = 'Moderate/'\n",
    "severe = 'Severe/'\n",
    "proliferate_dr = 'Proliferate_DR/'"
   ]
  },
  {
   "cell_type": "code",
   "execution_count": 4,
   "metadata": {},
   "outputs": [
    {
     "name": "stdout",
     "output_type": "stream",
     "text": [
      "0    2\n",
      "1    4\n",
      "2    1\n",
      "3    0\n",
      "4    0\n",
      "Name: diagnosis, dtype: int64\n",
      "0    1805\n",
      "2     999\n",
      "1     370\n",
      "4     295\n",
      "3     193\n",
      "Name: diagnosis, dtype: int64 <class 'pandas.core.series.Series'>\n"
     ]
    }
   ],
   "source": [
    "train_y = file['diagnosis']\n",
    "print(train_y.head())\n",
    "num_img_by_cat = train_y.value_counts()\n",
    "print(num_img_by_cat, type(num_img_by_cat))\n"
   ]
  },
  {
   "cell_type": "code",
   "execution_count": 5,
   "metadata": {},
   "outputs": [
    {
     "data": {
      "application/vnd.jupyter.widget-view+json": {
       "model_id": "c16748c9d4f54e82b2565e43738a6171",
       "version_major": 2,
       "version_minor": 0
      },
      "text/plain": [
       "HBox(children=(FloatProgress(value=0.0, max=5.0), HTML(value='')))"
      ]
     },
     "metadata": {},
     "output_type": "display_data"
    },
    {
     "data": {
      "application/vnd.jupyter.widget-view+json": {
       "model_id": "08f224a379384a9ab812616f6edf4099",
       "version_major": 2,
       "version_minor": 0
      },
      "text/plain": [
       "HBox(children=(FloatProgress(value=1.0, bar_style='info', max=1.0), HTML(value='')))"
      ]
     },
     "metadata": {},
     "output_type": "display_data"
    },
    {
     "name": "stdout",
     "output_type": "stream",
     "text": [
      "\n"
     ]
    },
    {
     "data": {
      "application/vnd.jupyter.widget-view+json": {
       "model_id": "4c3253e2fb3d490daecf71457574335f",
       "version_major": 2,
       "version_minor": 0
      },
      "text/plain": [
       "HBox(children=(FloatProgress(value=1.0, bar_style='info', max=1.0), HTML(value='')))"
      ]
     },
     "metadata": {},
     "output_type": "display_data"
    },
    {
     "name": "stdout",
     "output_type": "stream",
     "text": [
      "\n"
     ]
    },
    {
     "data": {
      "application/vnd.jupyter.widget-view+json": {
       "model_id": "08f06c93602741278642e209e5f5bc53",
       "version_major": 2,
       "version_minor": 0
      },
      "text/plain": [
       "HBox(children=(FloatProgress(value=1.0, bar_style='info', max=1.0), HTML(value='')))"
      ]
     },
     "metadata": {},
     "output_type": "display_data"
    },
    {
     "name": "stdout",
     "output_type": "stream",
     "text": [
      "\n"
     ]
    },
    {
     "data": {
      "application/vnd.jupyter.widget-view+json": {
       "model_id": "10adf6d4a54942f199933150feba1e92",
       "version_major": 2,
       "version_minor": 0
      },
      "text/plain": [
       "HBox(children=(FloatProgress(value=1.0, bar_style='info', max=1.0), HTML(value='')))"
      ]
     },
     "metadata": {},
     "output_type": "display_data"
    },
    {
     "name": "stdout",
     "output_type": "stream",
     "text": [
      "\n"
     ]
    },
    {
     "data": {
      "application/vnd.jupyter.widget-view+json": {
       "model_id": "09ee2d624cc54a32bd6ff55766f06b03",
       "version_major": 2,
       "version_minor": 0
      },
      "text/plain": [
       "HBox(children=(FloatProgress(value=1.0, bar_style='info', max=1.0), HTML(value='')))"
      ]
     },
     "metadata": {},
     "output_type": "display_data"
    },
    {
     "name": "stdout",
     "output_type": "stream",
     "text": [
      "\n",
      "\n"
     ]
    }
   ],
   "source": [
    "for class_id in tqdm(sorted(train_y.unique())):\n",
    "    if class_id == 0:\n",
    "        \n",
    "        for i, (idx, row) in tqdm(enumerate(file.loc[file['diagnosis'] == class_id].sample(num_img_by_cat[0]).iterrows())):\n",
    "             read_path =  f\"../input/train_images/{row['id_code']}.png\"\n",
    "        \n",
    "             write_path = '../input/grayscale_images/'+no_dr+row['id_code']+'.png'\n",
    "         \n",
    "             image = cv2.imread(read_path)\n",
    "         \n",
    "             gray =  cv2.cvtColor(image, cv2.COLOR_BGR2GRAY)\n",
    "             cv2.imwrite(write_path, gray)\n",
    "                \n",
    "    if class_id == 1:\n",
    "        \n",
    "        for i, (idx, row) in tqdm(enumerate(file.loc[file['diagnosis'] == class_id].sample(num_img_by_cat[1]).iterrows())):\n",
    "             read_path =  f\"../input/train_images/{row['id_code']}.png\"\n",
    "        \n",
    "             write_path = '../input/grayscale_images/'+mild+row['id_code']+'.png'\n",
    "         \n",
    "             image = cv2.imread(read_path)\n",
    "         \n",
    "             gray =  cv2.cvtColor(image, cv2.COLOR_BGR2GRAY)\n",
    "             cv2.imwrite(write_path, gray)\n",
    "                \n",
    "    if class_id == 2:\n",
    "        \n",
    "        for i, (idx, row) in tqdm(enumerate(file.loc[file['diagnosis'] == class_id].sample(num_img_by_cat[2]).iterrows())):\n",
    "             read_path =  f\"../input/train_images/{row['id_code']}.png\"\n",
    "        \n",
    "             write_path = '../input/grayscale_images/'+moderate+row['id_code']+'.png'\n",
    "         \n",
    "             image = cv2.imread(read_path)\n",
    "         \n",
    "             gray =  cv2.cvtColor(image, cv2.COLOR_BGR2GRAY)\n",
    "             cv2.imwrite(write_path, gray)\n",
    "    \n",
    "    if class_id == 3:\n",
    "        \n",
    "        for i, (idx, row) in tqdm(enumerate(file.loc[file['diagnosis'] == class_id].sample(num_img_by_cat[3]).iterrows())):\n",
    "             read_path =  f\"../input/train_images/{row['id_code']}.png\"\n",
    "        \n",
    "             write_path = '../input/grayscale_images/'+severe+row['id_code']+'.png'\n",
    "         \n",
    "             image = cv2.imread(read_path)\n",
    "         \n",
    "             gray =  cv2.cvtColor(image, cv2.COLOR_BGR2GRAY)\n",
    "             cv2.imwrite(write_path, gray)\n",
    "    \n",
    "                 \n",
    "    if class_id == 4:\n",
    "        \n",
    "        for i, (idx, row) in tqdm(enumerate(file.loc[file['diagnosis'] == class_id].sample(num_img_by_cat[4]).iterrows())):\n",
    "             read_path =  f\"../input/train_images/{row['id_code']}.png\"\n",
    "        \n",
    "             write_path = '../input/grayscale_images/'+proliferate_dr+row['id_code']+'.png'\n",
    "         \n",
    "             image = cv2.imread(read_path)\n",
    "         \n",
    "             gray =  cv2.cvtColor(image, cv2.COLOR_BGR2GRAY)\n",
    "             cv2.imwrite(write_path, gray) "
   ]
  },
  {
   "cell_type": "code",
   "execution_count": null,
   "metadata": {},
   "outputs": [],
   "source": []
  },
  {
   "cell_type": "code",
   "execution_count": null,
   "metadata": {},
   "outputs": [],
   "source": []
  }
 ],
 "metadata": {
  "kernelspec": {
   "display_name": "Python 3",
   "language": "python",
   "name": "python3"
  },
  "language_info": {
   "codemirror_mode": {
    "name": "ipython",
    "version": 3
   },
   "file_extension": ".py",
   "mimetype": "text/x-python",
   "name": "python",
   "nbconvert_exporter": "python",
   "pygments_lexer": "ipython3",
   "version": "3.7.6"
  }
 },
 "nbformat": 4,
 "nbformat_minor": 4
}
