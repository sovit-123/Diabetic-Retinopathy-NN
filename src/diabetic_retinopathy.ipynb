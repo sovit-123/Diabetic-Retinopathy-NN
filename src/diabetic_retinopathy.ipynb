{
 "cells": [
  {
   "cell_type": "code",
   "execution_count": null,
   "metadata": {
    "colab": {
     "base_uri": "https://localhost:8080/",
     "height": 128
    },
    "colab_type": "code",
    "executionInfo": {
     "elapsed": 65163,
     "status": "ok",
     "timestamp": 1578290063505,
     "user": {
      "displayName": "Sovit Rath",
      "photoUrl": "https://lh3.googleusercontent.com/a-/AAuE7mC7dho0tRMrPu4UZzCct4spx_RHSkHodfB84TmtOQ=s64",
      "userId": "16116444459058408221"
     },
     "user_tz": -330
    },
    "id": "D1zOSagofUJW",
    "outputId": "ffdfa49c-8bc3-4b2a-a977-0ad94448e300"
   },
   "outputs": [],
   "source": [
    "# from google.colab import drive\n",
    "# drive.mount('/gdrive')"
   ]
  },
  {
   "cell_type": "code",
   "execution_count": null,
   "metadata": {},
   "outputs": [],
   "source": []
  },
  {
   "cell_type": "code",
   "execution_count": null,
   "metadata": {
    "colab": {},
    "colab_type": "code",
    "id": "KCpcff45fbzo"
   },
   "outputs": [],
   "source": [
    "from fastai.vision import *"
   ]
  },
  {
   "cell_type": "code",
   "execution_count": null,
   "metadata": {
    "colab": {},
    "colab_type": "code",
    "id": "8LgOH7D5fjuY"
   },
   "outputs": [],
   "source": [
    "classes = ['No_DR', 'Mild', 'Moderate', 'Severe', 'Proliferate_DR']"
   ]
  },
  {
   "cell_type": "code",
   "execution_count": null,
   "metadata": {
    "colab": {
     "base_uri": "https://localhost:8080/",
     "height": 162
    },
    "colab_type": "code",
    "executionInfo": {
     "elapsed": 2058,
     "status": "ok",
     "timestamp": 1578290105983,
     "user": {
      "displayName": "Sovit Rath",
      "photoUrl": "https://lh3.googleusercontent.com/a-/AAuE7mC7dho0tRMrPu4UZzCct4spx_RHSkHodfB84TmtOQ=s64",
      "userId": "16116444459058408221"
     },
     "user_tz": -330
    },
    "id": "uRlWAdU-fw98",
    "outputId": "5ddf8dea-2f74-449b-c9f7-30b3afd154d5"
   },
   "outputs": [],
   "source": [
    "path = Path('data/images')\n",
    "path.ls()"
   ]
  },
  {
   "cell_type": "code",
   "execution_count": null,
   "metadata": {
    "colab": {
     "base_uri": "https://localhost:8080/",
     "height": 101
    },
    "colab_type": "code",
    "executionInfo": {
     "elapsed": 52915,
     "status": "ok",
     "timestamp": 1576975920208,
     "user": {
      "displayName": "Sovit Rath",
      "photoUrl": "https://lh3.googleusercontent.com/a-/AAuE7mC7dho0tRMrPu4UZzCct4spx_RHSkHodfB84TmtOQ=s64",
      "userId": "16116444459058408221"
     },
     "user_tz": -330
    },
    "id": "l4FkeoUVgAU8",
    "outputId": "2ba2775b-f96a-4bdc-fe77-baf092194df3"
   },
   "outputs": [],
   "source": [
    "# remove the images that we cannot open\n",
    "for c in classes:\n",
    "    print(c)\n",
    "    verify_images(path/c, delete=True, max_size=500)"
   ]
  },
  {
   "cell_type": "code",
   "execution_count": null,
   "metadata": {
    "colab": {},
    "colab_type": "code",
    "id": "_WLpJznOgGsk"
   },
   "outputs": [],
   "source": [
    "np.random.seed(42)\n",
    "data = ImageDataBunch.from_folder(path, train='.', valid_pct=0.2, \n",
    "                                  ds_tfms=get_transforms(), size=224, \n",
    "                                  num_workers=4).normalize(imagenet_stats)"
   ]
  },
  {
   "cell_type": "code",
   "execution_count": null,
   "metadata": {
    "colab": {
     "base_uri": "https://localhost:8080/",
     "height": 35
    },
    "colab_type": "code",
    "executionInfo": {
     "elapsed": 22953,
     "status": "ok",
     "timestamp": 1578290160282,
     "user": {
      "displayName": "Sovit Rath",
      "photoUrl": "https://lh3.googleusercontent.com/a-/AAuE7mC7dho0tRMrPu4UZzCct4spx_RHSkHodfB84TmtOQ=s64",
      "userId": "16116444459058408221"
     },
     "user_tz": -330
    },
    "id": "NPqPHeZjhJ2r",
    "outputId": "02f0ad3b-63cd-44ec-c16e-9aafed78d71b"
   },
   "outputs": [],
   "source": [
    "data.classes"
   ]
  },
  {
   "cell_type": "code",
   "execution_count": null,
   "metadata": {
    "colab": {
     "base_uri": "https://localhost:8080/",
     "height": 513
    },
    "colab_type": "code",
    "executionInfo": {
     "elapsed": 75,
     "status": "ok",
     "timestamp": 1578290953413,
     "user": {
      "displayName": "Sovit Rath",
      "photoUrl": "https://lh3.googleusercontent.com/a-/AAuE7mC7dho0tRMrPu4UZzCct4spx_RHSkHodfB84TmtOQ=s64",
      "userId": "16116444459058408221"
     },
     "user_tz": -330
    },
    "id": "yXFboiC6hLOb",
    "outputId": "6ec56064-6f73-4a23-aa4f-d2898649aa90"
   },
   "outputs": [],
   "source": [
    "data.show_batch(rows=3, figsize=(10, 7))"
   ]
  },
  {
   "cell_type": "code",
   "execution_count": null,
   "metadata": {
    "colab": {
     "base_uri": "https://localhost:8080/",
     "height": 35
    },
    "colab_type": "code",
    "executionInfo": {
     "elapsed": 52171,
     "status": "ok",
     "timestamp": 1578290189965,
     "user": {
      "displayName": "Sovit Rath",
      "photoUrl": "https://lh3.googleusercontent.com/a-/AAuE7mC7dho0tRMrPu4UZzCct4spx_RHSkHodfB84TmtOQ=s64",
      "userId": "16116444459058408221"
     },
     "user_tz": -330
    },
    "id": "_sWKFneBhM8b",
    "outputId": "8992f054-8bc8-4e86-c304-e6fd3fb607ec"
   },
   "outputs": [],
   "source": [
    "data.classes, data.c, len(data.train_ds), len(data.valid_ds)"
   ]
  },
  {
   "cell_type": "code",
   "execution_count": null,
   "metadata": {
    "colab": {
     "base_uri": "https://localhost:8080/",
     "height": 73
    },
    "colab_type": "code",
    "executionInfo": {
     "elapsed": 52523,
     "status": "ok",
     "timestamp": 1578290190527,
     "user": {
      "displayName": "Sovit Rath",
      "photoUrl": "https://lh3.googleusercontent.com/a-/AAuE7mC7dho0tRMrPu4UZzCct4spx_RHSkHodfB84TmtOQ=s64",
      "userId": "16116444459058408221"
     },
     "user_tz": -330
    },
    "id": "HwfFPnnbhPcR",
    "outputId": "fb342c7a-b97f-448b-89cb-9bd90f5e9ec1"
   },
   "outputs": [],
   "source": [
    "learn = cnn_learner(data, models.resnet34, metrics = error_rate)\n",
    "# path = users/.cache/torch"
   ]
  },
  {
   "cell_type": "code",
   "execution_count": null,
   "metadata": {
    "colab": {
     "base_uri": "https://localhost:8080/",
     "height": 363
    },
    "colab_type": "code",
    "executionInfo": {
     "elapsed": 193737,
     "status": "ok",
     "timestamp": 1578290331946,
     "user": {
      "displayName": "Sovit Rath",
      "photoUrl": "https://lh3.googleusercontent.com/a-/AAuE7mC7dho0tRMrPu4UZzCct4spx_RHSkHodfB84TmtOQ=s64",
      "userId": "16116444459058408221"
     },
     "user_tz": -330
    },
    "id": "IRi11bguhTSY",
    "outputId": "783bfd31-9482-4add-83f4-f13d9a85ee9e"
   },
   "outputs": [],
   "source": [
    "learn.fit_one_cycle(10)"
   ]
  },
  {
   "cell_type": "code",
   "execution_count": null,
   "metadata": {},
   "outputs": [],
   "source": [
    "learn.recorder.plot_losses()"
   ]
  },
  {
   "cell_type": "code",
   "execution_count": null,
   "metadata": {
    "colab": {},
    "colab_type": "code",
    "id": "cbszRPiJhWP-"
   },
   "outputs": [],
   "source": [
    "learn.save('stage-1')"
   ]
  },
  {
   "cell_type": "code",
   "execution_count": null,
   "metadata": {
    "colab": {},
    "colab_type": "code",
    "id": "l3aAPssEhuOW"
   },
   "outputs": [],
   "source": [
    "learn.unfreeze()"
   ]
  },
  {
   "cell_type": "code",
   "execution_count": null,
   "metadata": {
    "colab": {
     "base_uri": "https://localhost:8080/",
     "height": 35
    },
    "colab_type": "code",
    "executionInfo": {
     "elapsed": 300851,
     "status": "ok",
     "timestamp": 1578290439715,
     "user": {
      "displayName": "Sovit Rath",
      "photoUrl": "https://lh3.googleusercontent.com/a-/AAuE7mC7dho0tRMrPu4UZzCct4spx_RHSkHodfB84TmtOQ=s64",
      "userId": "16116444459058408221"
     },
     "user_tz": -330
    },
    "id": "U6_qvaRrhvZY",
    "outputId": "29bbeb64-6a65-4ca7-f781-9848a4ee816a"
   },
   "outputs": [],
   "source": [
    "learn.lr_find()"
   ]
  },
  {
   "cell_type": "code",
   "execution_count": null,
   "metadata": {
    "colab": {
     "base_uri": "https://localhost:8080/",
     "height": 279
    },
    "colab_type": "code",
    "executionInfo": {
     "elapsed": 301200,
     "status": "ok",
     "timestamp": 1578290440283,
     "user": {
      "displayName": "Sovit Rath",
      "photoUrl": "https://lh3.googleusercontent.com/a-/AAuE7mC7dho0tRMrPu4UZzCct4spx_RHSkHodfB84TmtOQ=s64",
      "userId": "16116444459058408221"
     },
     "user_tz": -330
    },
    "id": "xUXNszUhhwj6",
    "outputId": "7a6a71e8-dcde-4741-d796-9b644767607b"
   },
   "outputs": [],
   "source": [
    "learn.recorder.plot()"
   ]
  },
  {
   "cell_type": "code",
   "execution_count": null,
   "metadata": {
    "colab": {
     "base_uri": "https://localhost:8080/",
     "height": 143
    },
    "colab_type": "code",
    "executionInfo": {
     "elapsed": 329193,
     "status": "ok",
     "timestamp": 1578290468471,
     "user": {
      "displayName": "Sovit Rath",
      "photoUrl": "https://lh3.googleusercontent.com/a-/AAuE7mC7dho0tRMrPu4UZzCct4spx_RHSkHodfB84TmtOQ=s64",
      "userId": "16116444459058408221"
     },
     "user_tz": -330
    },
    "id": "KZqFpUHnhx1I",
    "outputId": "1b8a0059-8bee-4c94-8b83-544ab7b36461"
   },
   "outputs": [],
   "source": [
    "learn.fit_one_cycle(3, max_lr=slice(1e-4, 1e-3))"
   ]
  },
  {
   "cell_type": "code",
   "execution_count": null,
   "metadata": {
    "colab": {},
    "colab_type": "code",
    "id": "lUkIkyKkiRG5"
   },
   "outputs": [],
   "source": [
    "learn.save('stage-2')"
   ]
  },
  {
   "cell_type": "code",
   "execution_count": null,
   "metadata": {
    "colab": {
     "base_uri": "https://localhost:8080/",
     "height": 1000
    },
    "colab_type": "code",
    "executionInfo": {
     "elapsed": 333614,
     "status": "ok",
     "timestamp": 1578290473312,
     "user": {
      "displayName": "Sovit Rath",
      "photoUrl": "https://lh3.googleusercontent.com/a-/AAuE7mC7dho0tRMrPu4UZzCct4spx_RHSkHodfB84TmtOQ=s64",
      "userId": "16116444459058408221"
     },
     "user_tz": -330
    },
    "id": "chrWdIBYiUGq",
    "outputId": "5da086aa-4df1-4d30-aa15-caff14b63cef"
   },
   "outputs": [],
   "source": [
    "learn.load('stage-2')"
   ]
  },
  {
   "cell_type": "code",
   "execution_count": null,
   "metadata": {
    "colab": {
     "base_uri": "https://localhost:8080/",
     "height": 17
    },
    "colab_type": "code",
    "executionInfo": {
     "elapsed": 335455,
     "status": "ok",
     "timestamp": 1578290475324,
     "user": {
      "displayName": "Sovit Rath",
      "photoUrl": "https://lh3.googleusercontent.com/a-/AAuE7mC7dho0tRMrPu4UZzCct4spx_RHSkHodfB84TmtOQ=s64",
      "userId": "16116444459058408221"
     },
     "user_tz": -330
    },
    "id": "UzrlrM-diVmw",
    "outputId": "afe8bb12-1f02-4d01-8046-9a91a28fc66d"
   },
   "outputs": [],
   "source": [
    "interp = ClassificationInterpretation.from_learner(learn)"
   ]
  },
  {
   "cell_type": "code",
   "execution_count": null,
   "metadata": {
    "colab": {
     "base_uri": "https://localhost:8080/",
     "height": 311
    },
    "colab_type": "code",
    "executionInfo": {
     "elapsed": 335261,
     "status": "ok",
     "timestamp": 1578290475327,
     "user": {
      "displayName": "Sovit Rath",
      "photoUrl": "https://lh3.googleusercontent.com/a-/AAuE7mC7dho0tRMrPu4UZzCct4spx_RHSkHodfB84TmtOQ=s64",
      "userId": "16116444459058408221"
     },
     "user_tz": -330
    },
    "id": "aHgXVIe8iXxE",
    "outputId": "98c17e8c-f7c9-472d-8d24-6e0872e90d15"
   },
   "outputs": [],
   "source": [
    "interp.plot_confusion_matrix()"
   ]
  },
  {
   "cell_type": "code",
   "execution_count": null,
   "metadata": {
    "colab": {},
    "colab_type": "code",
    "id": "B80liPfhiaLO"
   },
   "outputs": [],
   "source": [
    "learn.export()"
   ]
  },
  {
   "cell_type": "code",
   "execution_count": null,
   "metadata": {
    "colab": {},
    "colab_type": "code",
    "id": "Ei-TISKkicyh"
   },
   "outputs": [],
   "source": [
    "defaults.device = torch.device('cpu')"
   ]
  },
  {
   "cell_type": "code",
   "execution_count": null,
   "metadata": {
    "colab": {
     "base_uri": "https://localhost:8080/",
     "height": 1000
    },
    "colab_type": "code",
    "executionInfo": {
     "elapsed": 393874,
     "status": "ok",
     "timestamp": 1578290534514,
     "user": {
      "displayName": "Sovit Rath",
      "photoUrl": "https://lh3.googleusercontent.com/a-/AAuE7mC7dho0tRMrPu4UZzCct4spx_RHSkHodfB84TmtOQ=s64",
      "userId": "16116444459058408221"
     },
     "user_tz": -330
    },
    "id": "U5Y6MZXeieEA",
    "outputId": "ecb31d79-4208-4327-fe4e-3ffe3978da4e"
   },
   "outputs": [],
   "source": [
    "img = open_image('train_images/ffec9a18a3ce.png')\n",
    "img"
   ]
  },
  {
   "cell_type": "code",
   "execution_count": null,
   "metadata": {
    "colab": {},
    "colab_type": "code",
    "id": "i2-ARVXdivtu"
   },
   "outputs": [],
   "source": [
    "learn = load_learner(path)"
   ]
  },
  {
   "cell_type": "code",
   "execution_count": null,
   "metadata": {
    "colab": {
     "base_uri": "https://localhost:8080/",
     "height": 35
    },
    "colab_type": "code",
    "executionInfo": {
     "elapsed": 393517,
     "status": "ok",
     "timestamp": 1578290534526,
     "user": {
      "displayName": "Sovit Rath",
      "photoUrl": "https://lh3.googleusercontent.com/a-/AAuE7mC7dho0tRMrPu4UZzCct4spx_RHSkHodfB84TmtOQ=s64",
      "userId": "16116444459058408221"
     },
     "user_tz": -330
    },
    "id": "VniAR0tci0Dt",
    "outputId": "77569f91-21c5-4403-d595-b11713ce7e10"
   },
   "outputs": [],
   "source": [
    "pred_class, pred_idx, outputs = learn.predict(img)\n",
    "pred_class"
   ]
  },
  {
   "cell_type": "code",
   "execution_count": null,
   "metadata": {
    "colab": {},
    "colab_type": "code",
    "id": "g_CEqsHWi1MW"
   },
   "outputs": [],
   "source": []
  }
 ],
 "metadata": {
  "accelerator": "GPU",
  "colab": {
   "collapsed_sections": [],
   "name": "diabetic_retinopathy.ipynb",
   "provenance": []
  },
  "kernelspec": {
   "display_name": "Python 3",
   "language": "python",
   "name": "python3"
  },
  "language_info": {
   "codemirror_mode": {
    "name": "ipython",
    "version": 3
   },
   "file_extension": ".py",
   "mimetype": "text/x-python",
   "name": "python",
   "nbconvert_exporter": "python",
   "pygments_lexer": "ipython3",
   "version": "3.7.5"
  }
 },
 "nbformat": 4,
 "nbformat_minor": 1
}
